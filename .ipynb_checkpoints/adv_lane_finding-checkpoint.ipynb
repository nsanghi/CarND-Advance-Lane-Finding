{
 "cells": [
  {
   "cell_type": "markdown",
   "metadata": {},
   "source": [
    "### Code below finds Chessboard corners and draws them\n"
   ]
  },
  {
   "cell_type": "code",
   "execution_count": 2,
   "metadata": {
    "collapsed": true
   },
   "outputs": [],
   "source": [
    "import numpy as np\n",
    "import cv2\n",
    "import glob\n",
    "import matplotlib.pyplot as plt\n",
    "import pickle\n",
    "import matplotlib.image as mpimg\n",
    "%matplotlib qt\n"
   ]
  },
  {
   "cell_type": "code",
   "execution_count": null,
   "metadata": {
    "collapsed": false
   },
   "outputs": [],
   "source": [
    "nx = 9 #no of points per row\n",
    "ny = 6 #no of points per column\n",
    "\n",
    "# prepare object points, like (0,0,0), (1,0,0), (2,0,0) ....,(8,5,0)\n",
    "objp = np.zeros((ny*nx,3), np.float32)\n",
    "objp[:,:2] = np.mgrid[0:nx, 0:ny].T.reshape(-1,2)\n",
    "\n",
    "# Arrays to store object points and image points from all the images.\n",
    "objpoints = [] # 3d points in real world space\n",
    "imgpoints = [] # 2d points in image plane.\n",
    "\n",
    "# Make a list of calibration images\n",
    "images = glob.glob('camera_cal/calibration*.jpg')\n",
    "\n"
   ]
  },
  {
   "cell_type": "code",
   "execution_count": null,
   "metadata": {
    "collapsed": false
   },
   "outputs": [],
   "source": [
    "# Step through the list and search for chessboard corners\n",
    "for idx, fname in enumerate(images):\n",
    "    img = cv2.imread(fname)\n",
    "    gray = cv2.cvtColor(img, cv2.COLOR_BGR2GRAY)\n",
    "\n",
    "    # Find the chessboard corners\n",
    "    ret, corners = cv2.findChessboardCorners(gray, (nx,ny), None)\n",
    "\n",
    "    # If found, add object points, image points\n",
    "    if ret == True:\n",
    "        objpoints.append(objp)\n",
    "        imgpoints.append(corners)\n",
    "\n",
    "        # Draw and display the corners\n",
    "        cv2.drawChessboardCorners(img, (nx,ny), corners, ret)\n",
    "        #write_name = 'corners_found'+str(idx)+'.jpg'\n",
    "        #cv2.imwrite(write_name, img)\n",
    "        cv2.imshow('img', img)\n",
    "        cv2.waitKey(500)\n",
    "\n",
    "cv2.destroyAllWindows()"
   ]
  },
  {
   "cell_type": "markdown",
   "metadata": {},
   "source": [
    "### using object and image points above, find and store distortion coefficients"
   ]
  },
  {
   "cell_type": "code",
   "execution_count": null,
   "metadata": {
    "collapsed": true
   },
   "outputs": [],
   "source": [
    "\n",
    "%matplotlib inline\n",
    "\n",
    "# Test undistortion on an image\n",
    "img = cv2.imread('test_images/test1.jpg')\n",
    "img_size = (img.shape[1], img.shape[0])\n",
    "\n",
    "\n",
    "# Do camera calibration given object points and image points\n",
    "ret, mtx, dist, rvecs, tvecs = cv2.calibrateCamera(objpoints, imgpoints, img_size,None,None)\n",
    "\n",
    "# Save the camera calibration result for later use (we won't worry about rvecs / tvecs)\n",
    "dist_pickle = {}\n",
    "dist_pickle[\"mtx\"] = mtx\n",
    "dist_pickle[\"dist\"] = dist\n",
    "pickle.dump( dist_pickle, open( \"dist_pickle.p\", \"wb\" ) )"
   ]
  },
  {
   "cell_type": "code",
   "execution_count": null,
   "metadata": {
    "collapsed": false
   },
   "outputs": [],
   "source": [
    "def undistort(img, mtx, dist):\n",
    "    dst = cv2.undistort(img, mtx, dist, None, mtx)\n",
    "    return dst\n",
    "\n",
    "# visualize two images - left original and right processed image\n",
    "def visualize(src, dst, bgr_type = False, dst_is_gray=False):\n",
    "    if bgr_type:\n",
    "        dst = cv2.cvtColor(dst, cv2.COLOR_BGR2RGB)\n",
    "        src = cv2.cvtColor(src, cv2.COLOR_BGR2RGB)\n",
    "    f, (ax1, ax2) = plt.subplots(1, 2, figsize=(24,9))\n",
    "    f.tight_layout()\n",
    "    ax1.imshow(src)\n",
    "    ax1.set_title('Original Image', fontsize=30)\n",
    "    if dst_is_gray:\n",
    "        ax2.imshow(dst, cmap='gray')\n",
    "    else:\n",
    "        ax2.imshow(dst)\n",
    "    ax2.set_title('Processed Image', fontsize=30)\n",
    "    plt.subplots_adjust(left=0., right=1, top=0.9, bottom=0.)\n",
    "    \n",
    "\n",
    "\n",
    "# Make a list of test images\n",
    "images = glob.glob('test_images/*.jpg')\n",
    "\n",
    "# Step through the list and undistort the images\n",
    "for idx, fname in enumerate(images):\n",
    "    img = cv2.imread(fname)\n",
    "    dst = undistort(img, mtx, dist)\n",
    "    cv2.imwrite('output_images/undist_'+fname[12:],dst)\n",
    "    #just plot test1.jpg image\n",
    "    if fname[12:] == 'test1.jpg':\n",
    "        visualize(img, dst, bgr_type=True)\n"
   ]
  },
  {
   "cell_type": "markdown",
   "metadata": {},
   "source": [
    "### With distortion coefficients calculated, now move to applying thresholding"
   ]
  },
  {
   "cell_type": "code",
   "execution_count": null,
   "metadata": {
    "collapsed": false
   },
   "outputs": [],
   "source": [
    "\n",
    "# Read in the saved distortion coefficients\n",
    "dist_pickle = pickle.load( open( \"dist_pickle.p\", \"rb\" ) )\n",
    "\n",
    "mtx = dist_pickle[\"mtx\"]\n",
    "dist = dist_pickle[\"dist\"]\n",
    "\n",
    "# this pipeline takes the original image and\n",
    "# applies a combined gradient and S channel thresholding\n",
    "# imgae is supposed be read with imread giving RGB colors\n",
    "def threshold(img, sobel_kernel=3, s_thresh=(170, 220), mag_thresh=(20, 100)):\n",
    "    img = np.copy(img)\n",
    "    \n",
    "    #Do Sobel_mag\n",
    "    gray = cv2.cvtColor(img, cv2.COLOR_RGB2GRAY)\n",
    "    sobelx = cv2.Sobel(gray, cv2.CV_64F, 1, 0, ksize=sobel_kernel)\n",
    "    sobely = cv2.Sobel(gray, cv2.CV_64F, 0, 1, ksize=sobel_kernel)\n",
    "    # removed sobely after trial and error\n",
    "    gradmag = np.sqrt(sobelx**2 + sobely**2*0)\n",
    "    scale_factor = np.max(gradmag)/255\n",
    "    gradmag = (gradmag/scale_factor).astype(np.uint8)\n",
    "    grad_binary = np.zeros_like(gradmag)\n",
    "    grad_binary[(gradmag >= mag_thresh[0]) & (gradmag <= mag_thresh[1])] = 1\n",
    "    \n",
    "    #Do S channel Thresholding\n",
    "    hls = cv2.cvtColor(img, cv2.COLOR_RGB2HLS)\n",
    "    s_channel = hls[:,:,2]\n",
    "    s_binary = np.zeros_like(s_channel)\n",
    "    s_binary[(s_channel >= s_thresh[0]) & (s_channel <= s_thresh[1])] = 1\n",
    "\n",
    "    #Combine two binary thresholds\n",
    "    combined_binary = np.zeros_like(grad_binary)\n",
    "    combined_binary[(grad_binary == 1) | (s_binary == 1)] = 1\n",
    "\n",
    "    return combined_binary\n",
    "\n",
    "\n",
    "# test this part of pipeline i.e. undistort and Threshold\n",
    "\n",
    "img = mpimg.imread('test_images/test5.jpg')\n",
    "undist = undistort(img, mtx, dist)\n",
    "result = threshold(undist)\n",
    "\n",
    "\n",
    "# Plot the result\n",
    "f, (ax1, ax2) = plt.subplots(1, 2, figsize=(24, 9))\n",
    "f.tight_layout()\n",
    "\n",
    "ax1.imshow(img)\n",
    "ax1.set_title('Original Image', fontsize=30)\n",
    "\n",
    "ax2.imshow(result, cmap='gray')\n",
    "ax2.set_title('Pipeline Result', fontsize=30)\n",
    "plt.subplots_adjust(left=0., right=1, top=0.9, bottom=0.)"
   ]
  },
  {
   "cell_type": "code",
   "execution_count": null,
   "metadata": {
    "collapsed": false
   },
   "outputs": [],
   "source": [
    "# process all test images and store output\n",
    "# Make a list of test images\n",
    "images = glob.glob('test_images/*.jpg')\n",
    "\n",
    "# Step through the list and undistort the images\n",
    "for idx, fname in enumerate(images):\n",
    "    img = mpimg.imread(fname)\n",
    "    undist = undistort(img, mtx, dist)\n",
    "    result = threshold(undist)\n",
    "    mpimg.imsave('output_images/undist_thresh_'+fname[12:],result, cmap='gray')\n",
    "    #visualize(img, result, bgr_type = False, dst_is_gray=True)\n"
   ]
  },
  {
   "cell_type": "markdown",
   "metadata": {},
   "source": [
    "### now we do perspective transform"
   ]
  },
  {
   "cell_type": "code",
   "execution_count": null,
   "metadata": {
    "collapsed": false
   },
   "outputs": [],
   "source": [
    "%matplotlib inline\n",
    "img = mpimg.imread('output_images/undist_test6.jpg')\n",
    "print (img.shape)\n",
    "plt.imshow(img)\n",
    "plt.plot(625,450,'.') # top left\n",
    "plt.plot(243, 719, '.') # bottom left\n",
    "plt.plot(1160, 719, '.') # bottom right\n",
    "plt.plot(725, 450, '.') # top right\n",
    "\n",
    "# Trapiziod for image test6 is given above. THis is used to create the perspective tarnsform\n",
    "\n",
    "# 4 points on the lane lines that will appear straight in topdown view\n",
    "src = np.float32(\n",
    "    [[615, 450],\n",
    "     [243, 719],\n",
    "     [1160,719],\n",
    "     [725, 450]\n",
    "    ])\n",
    "#Cooridate of above 4 points that should appear in topdown view\n",
    "dst = np.float32(\n",
    "    [[243,0],\n",
    "     [243, 719],\n",
    "     [1160,719],\n",
    "     [1160,0]\n",
    "    ])\n",
    "\n",
    "# calculate perspective transform\n",
    "M = cv2.getPerspectiveTransform(src, dst)\n",
    "\n",
    "#calculate inverse perspective transform\n",
    "Minv = cv2.getPerspectiveTransform(dst, src)\n",
    "\n",
    "M_pickle = {}\n",
    "M_pickle[\"M\"] = M\n",
    "M_pickle[\"Minv\"] = Minv\n",
    "pickle.dump( M_pickle, open( \"M_pickle.p\", \"wb\" ) )\n"
   ]
  },
  {
   "cell_type": "code",
   "execution_count": null,
   "metadata": {
    "collapsed": false
   },
   "outputs": [],
   "source": [
    "# Read in the saved distortion coefficients\n",
    "dist_pickle = pickle.load( open( \"dist_pickle.p\", \"rb\" ) )\n",
    "mtx = dist_pickle[\"mtx\"]\n",
    "dist = dist_pickle[\"dist\"]\n",
    "\n",
    "# readd in saved M and Minv\n",
    "M_pickle = pickle.load( open( \"M_pickle.p\", \"rb\" ) )\n",
    "M = M_pickle[\"M\"]\n",
    "Minv = M_pickle[\"Minv\"]\n",
    "\n",
    "img = mpimg.imread('test_images/test1.jpg')\n",
    "\n",
    "undist = undistort(img, mtx, dist)\n",
    "thresh = threshold(undist)\n",
    "# convert gray sclae to RGB\n",
    "thresh_3 = np.dstack((thresh, thresh, thresh))*255\n",
    "cv2.line(thresh_3,tuple(src[0]), tuple(src[1]), color=[255,0,0], thickness=1 )\n",
    "cv2.line(thresh_3,tuple(src[1]), tuple(src[2]), color=[255,0,0], thickness=1 )\n",
    "cv2.line(thresh_3,tuple(src[2]), tuple(src[3]), color=[255,0,0], thickness=1 )\n",
    "cv2.line(thresh_3,tuple(src[3]), tuple(src[0]), color=[255,0,0], thickness=1 )\n",
    "img_size = (thresh.shape[1], thresh.shape[0])\n",
    "\n",
    "warped = cv2.warpPerspective(thresh_3, M, img_size)\n",
    "\n",
    "\n",
    "\n",
    "# Plot the result\n",
    "f, (ax1, ax2, ax3) = plt.subplots(1, 3, figsize=(24, 9))\n",
    "f.tight_layout()\n",
    "\n",
    "ax1.imshow(img)\n",
    "ax1.set_title('Original Image', fontsize=20)\n",
    "ax2.imshow(thresh_3)\n",
    "ax2.set_title('Thresholded Result', fontsize=20)\n",
    "ax3.imshow(warped)\n",
    "ax3.set_title('Topdown Result', fontsize=20)\n",
    "plt.subplots_adjust(left=0., right=1, top=0.9, bottom=0.)\n"
   ]
  },
  {
   "cell_type": "code",
   "execution_count": null,
   "metadata": {
    "collapsed": true
   },
   "outputs": [],
   "source": [
    "# process all test images and store outputafter warping\n",
    "# Make a list of test images\n",
    "images = glob.glob('test_images/*.jpg')\n",
    "\n",
    "# Step through the list and undistort the images\n",
    "for idx, fname in enumerate(images):\n",
    "    img = mpimg.imread(fname)\n",
    "    undist = undistort(img, mtx, dist)\n",
    "    thresh = threshold(undist)\n",
    "    thresh_3 = np.dstack((thresh, thresh, thresh))*255\n",
    "    cv2.line(thresh_3,tuple(src[0]), tuple(src[1]), color=[255,0,0], thickness=1 )\n",
    "    cv2.line(thresh_3,tuple(src[1]), tuple(src[2]), color=[255,0,0], thickness=1 )\n",
    "    cv2.line(thresh_3,tuple(src[2]), tuple(src[3]), color=[255,0,0], thickness=1 )\n",
    "    cv2.line(thresh_3,tuple(src[3]), tuple(src[0]), color=[255,0,0], thickness=1 )\n",
    "    img_size = (thresh.shape[1], thresh.shape[0])\n",
    "    warped = cv2.warpPerspective(thresh_3, M, img_size)\n",
    "    mpimg.imsave('output_images/warped_'+fname[12:],warped)\n"
   ]
  },
  {
   "cell_type": "markdown",
   "metadata": {},
   "source": [
    "### Now move on to Locsting lines"
   ]
  },
  {
   "cell_type": "code",
   "execution_count": null,
   "metadata": {
    "collapsed": false
   },
   "outputs": [],
   "source": [
    "def initial_lane_centers(h):\n",
    "    midp = np.int(h.shape[0]/2)\n",
    "    lc = np.argmax(h[:midp])\n",
    "    rc = np.argmax(h[midp:])+midp\n",
    "    return (lc, rc)\n",
    "    \n",
    "def sliding_windows(src, dst, mid, win_size=25):\n",
    "    \n",
    "    for row in range(src.shape[0]-1,-1,-1):\n",
    "        st = max(0,mid-win_size)\n",
    "        end = min(mid+win_size, src.shape[1]-1)\n",
    "        dst[row,st:end] = src[row,st:end]\n",
    "        ones = np.where(src[row,st:end] == 1)\n",
    "        if len(ones[0]):\n",
    "            mid = np.int(np.mean(ones)+st)\n",
    "    \n",
    "\n",
    "img = mpimg.imread('test_images/test1.jpg')\n",
    "undist = undistort(img, mtx, dist)\n",
    "thresh = threshold(undist)\n",
    "img_size = (thresh.shape[1], thresh.shape[0])\n",
    "warped = cv2.warpPerspective(thresh, M, img_size)\n",
    "histogram = np.sum(warped[warped.shape[0]/2:,:], axis=0)\n",
    "lc, rc = initial_lane_centers(histogram)\n",
    "lines = np.zeros_like(warped)\n",
    "sliding_windows(warped, lines, lc)\n",
    "sliding_windows(warped, lines, rc)\n",
    "\n",
    "\n",
    "\n",
    "# Plot the result\n",
    "f, (ax1, ax2, ax3) = plt.subplots(1, 3, figsize=(24, 9))\n",
    "f.tight_layout()\n",
    "\n",
    "ax1.imshow(img)\n",
    "ax1.set_title('Original Image', fontsize=20)\n",
    "ax2.imshow(warped, cmap='gray')\n",
    "ax2.set_title('Topdown Thresholded Image', fontsize=20)\n",
    "ax3.imshow(lines, cmap='gray')\n",
    "ax3.set_title('After sliding Window', fontsize=20)\n",
    "plt.subplots_adjust(left=0., right=1, top=0.9, bottom=0.)"
   ]
  },
  {
   "cell_type": "code",
   "execution_count": null,
   "metadata": {
    "collapsed": false
   },
   "outputs": [],
   "source": [
    "# process all test images and store outputafter warping and lane identification\n",
    "# Make a list of test images\n",
    "images = glob.glob('test_images/*.jpg')\n",
    "\n",
    "# Step through the list and process each image\n",
    "for idx, fname in enumerate(images):\n",
    "    img = mpimg.imread(fname)\n",
    "    undist = undistort(img, mtx, dist)\n",
    "    thresh = threshold(undist)\n",
    "    img_size = (thresh.shape[1], thresh.shape[0])\n",
    "    warped = cv2.warpPerspective(thresh, M, img_size)\n",
    "    histogram = np.sum(warped[warped.shape[0]/2:,:], axis=0)\n",
    "    lc, rc = initial_lane_centers(histogram)\n",
    "    lines = np.zeros_like(warped)\n",
    "    sliding_windows(warped, lines, lc)\n",
    "    sliding_windows(warped, lines, rc)    \n",
    "    mpimg.imsave('output_images/only_lanes_'+fname[12:],lines, cmap='gray')"
   ]
  },
  {
   "cell_type": "markdown",
   "metadata": {
    "collapsed": true
   },
   "source": [
    "### Next step is to fit the Right and Left Lines"
   ]
  },
  {
   "cell_type": "code",
   "execution_count": null,
   "metadata": {
    "collapsed": true
   },
   "outputs": [],
   "source": [
    "def fit_poly(lane_img, plot_fit=False):\n",
    "    # mid point on x axis to divide the image into two halfs\n",
    "    midx = np.int(lane_img.shape[1]/2)\n",
    "    yvals = np.linspace(0,img.shape[0]-1,img.shape[1])\n",
    "    left_ln_pts = np.where(lane_img[:,:midx]==1) #returns the tuple with first element all the y and 2nd all the x\n",
    "    right_ln_pts = np.where(lane_img[:,midx:]==1)\n",
    "    left_fit = np.polyfit(left_ln_pts[0], left_ln_pts[1], 2)\n",
    "    left_fitx = left_fit[0]*yvals**2 + left_fit[1]*yvals + left_fit[2]\n",
    "    right_fit = np.polyfit(right_ln_pts[0], right_ln_pts[1]+midx, 2)\n",
    "    right_fitx = right_fit[0]*yvals**2 + right_fit[1]*yvals + right_fit[2]\n",
    "    \n",
    "    #now visualize the fit\n",
    "    if plot_fit:\n",
    "        plt.plot(left_ln_pts[1], left_ln_pts[0], 'o', color='red')\n",
    "        plt.plot(right_ln_pts[1]+midx, right_ln_pts[0], 'o', color='red')\n",
    "        plt.xlim(0, 1280)\n",
    "        plt.ylim(0, 720)\n",
    "        plt.plot(left_fitx, yvals, color='green', linewidth=3)\n",
    "        plt.plot(right_fitx, yvals, color='green', linewidth=3)\n",
    "        plt.gca().invert_yaxis() # to visualize as we do the images\n",
    "    \n",
    "    #calculate Curvature in pixels\n",
    "    # Define conversions in x and y from pixels space to meters\n",
    "    ym_per_pix = 30/720 # meters per pixel in y dimension\n",
    "    xm_per_pix = 3.7/900 # meteres per pixel in x dimension\n",
    "    y_eval = np.max(yvals)\n",
    "    left_fit_cr = np.polyfit(left_ln_pts[0]*ym_per_pix, left_ln_pts[1]*xm_per_pix, 2)\n",
    "    right_fit_cr = np.polyfit(right_ln_pts[0]*ym_per_pix, (right_ln_pts[1]+midx)*xm_per_pix, 2)\n",
    "\n",
    "    left_curverad = ((1 + (2*left_fit_cr[0]*y_eval + left_fit_cr[1])**2)**1.5) \\\n",
    "                             /np.absolute(2*left_fit_cr[0])\n",
    "    right_curverad = ((1 + (2*right_fit_cr[0]*y_eval + right_fit_cr[1])**2)**1.5) \\\n",
    "                                /np.absolute(2*right_fit_cr[0])\n",
    "    # Now our radius of curvature is in meters\n",
    "    print(left_curverad, 'm', right_curverad, 'm')\n",
    "    \n",
    "    return (left_fit, left_curverad, right_fit, right_curverad)"
   ]
  },
  {
   "cell_type": "code",
   "execution_count": null,
   "metadata": {
    "collapsed": false
   },
   "outputs": [],
   "source": [
    "fit_poly(lines, True)"
   ]
  },
  {
   "cell_type": "markdown",
   "metadata": {
    "collapsed": false
   },
   "source": [
    "### Final Pipeline on static Images"
   ]
  },
  {
   "cell_type": "code",
   "execution_count": 39,
   "metadata": {
    "collapsed": false
   },
   "outputs": [],
   "source": [
    "# Define a class to receive the characteristics of each line detection\n",
    "class Line():\n",
    "    def __init__(self):\n",
    "        #no of history data\n",
    "        self.n = 5\n",
    "        # was the line detected in the last iteration?\n",
    "        self.detected = False  \n",
    "        # x values of the last n fits of the line\n",
    "        self.recent_xfitted = [] \n",
    "        #average x values of the fitted line over the last n iterations\n",
    "        self.bestx = None     \n",
    "        #polynomial coefficients averaged over the last n iterations\n",
    "        self.best_fit = None  \n",
    "        #polynomial coefficients for the most recent fit\n",
    "        self.current_fit = None \n",
    "        #radius of curvature of the line in some units\n",
    "        self.radius_of_curvature = None \n",
    "        #distance in meters of vehicle center from the line\n",
    "        self.line_base_pos = None \n",
    "        #difference in fit coefficients between last and new fits\n",
    "        self.diffs = np.array([0,0,0], dtype='float') \n",
    "        #x values for detected line pixels\n",
    "        self.allx = None  \n",
    "        #y values for detected line pixels\n",
    "        self.ally = None\n",
    "\n",
    "\n",
    "\n",
    "def undistort(img, mtx, dist):\n",
    "    dst = cv2.undistort(img, mtx, dist, None, mtx)\n",
    "    return dst\n",
    "\n",
    "# this pipeline takes the original image and\n",
    "# applies a combined gradient and S channel thresholding\n",
    "# imgae is supposed be read with imread giving RGB colors\n",
    "def threshold(img, sobel_kernel=3, s_thresh=(170, 220), mag_thresh=(20, 100)):\n",
    "    img = np.copy(img)\n",
    "    \n",
    "    #Do Sobel_mag\n",
    "    gray = cv2.cvtColor(img, cv2.COLOR_RGB2GRAY)\n",
    "    sobelx = cv2.Sobel(gray, cv2.CV_64F, 1, 0, ksize=sobel_kernel)\n",
    "    sobely = cv2.Sobel(gray, cv2.CV_64F, 0, 1, ksize=sobel_kernel)\n",
    "    # removed sobely after trial and error\n",
    "    gradmag = np.sqrt(sobelx**2 + sobely**2*0)\n",
    "    scale_factor = np.max(gradmag)/255\n",
    "    gradmag = (gradmag/scale_factor).astype(np.uint8)\n",
    "    grad_binary = np.zeros_like(gradmag)\n",
    "    grad_binary[(gradmag >= mag_thresh[0]) & (gradmag <= mag_thresh[1])] = 1\n",
    "    \n",
    "    #Do S channel Thresholding\n",
    "    hls = cv2.cvtColor(img, cv2.COLOR_RGB2HLS)\n",
    "    s_channel = hls[:,:,2]\n",
    "    s_binary = np.zeros_like(s_channel)\n",
    "    s_binary[(s_channel >= s_thresh[0]) & (s_channel <= s_thresh[1])] = 1\n",
    "\n",
    "    #Combine two binary thresholds\n",
    "    combined_binary = np.zeros_like(grad_binary)\n",
    "    combined_binary[(grad_binary == 1) | (s_binary == 1)] = 1\n",
    "\n",
    "    return combined_binary\n",
    "\n",
    "def apply_perspective(img, M):\n",
    "    img_size = (img.shape[1], img.shape[0])\n",
    "    warped = cv2.warpPerspective(img, M, img_size)\n",
    "    return warped\n",
    "\n",
    "\n",
    "def initial_lane_centers(h):\n",
    "    midp = np.int(h.shape[0]/2)\n",
    "    lc = np.argmax(h[:midp])\n",
    "    rc = np.argmax(h[midp:])+midp\n",
    "    return (lc, rc)\n",
    "\n",
    "# original sliding window which uses single row as window height\n",
    "def sliding_windows_one_row(src, dst, mid, win_size=25):\n",
    "    for row in range(src.shape[0]-1,-1,-1):\n",
    "        st = max(0,mid-win_size)\n",
    "        end = min(mid+win_size, src.shape[1]-1)\n",
    "        dst[row,st:end] = src[row,st:end]\n",
    "        ones = np.where(src[row,st:end] == 1)\n",
    "        if len(ones[0]):\n",
    "            mid = np.int(np.mean(ones)+st)\n",
    "\n",
    "def sliding_windows(src, dst, mid, win_size=25, win_height=10):\n",
    "    for row in range(src.shape[0],0,-win_height):\n",
    "        st = max(0,mid-win_size)\n",
    "        end = min(mid+win_size, src.shape[1]-1)\n",
    "        dst[max(0,row-win_height):row, st:end] = src[max(0,row-win_height):row, st:end]\n",
    "        ones = np.where(src[max(0,row-win_height):row, st:end] == 1)\n",
    "        # ones will be a tuple where first element i.e. ones[0] is the y indices of non zero elments and 2nd element i.e. ones[1] is\n",
    "        # x indicies of non zero values. We will extract only the 2nd element and take an average to findd the \n",
    "        # x center of slice\n",
    "        if len(ones[1]):\n",
    "            mid = np.int(np.mean(ones[1])+st)\n",
    "            \n",
    "            \n",
    "def isolate_lanes(img, left_line, right_line, reinitiate=True):\n",
    "    warped = np.copy(img)\n",
    "    if reinitiate:\n",
    "        histogram = np.sum(warped[warped.shape[0]/2:,:], axis=0)\n",
    "        lc, rc = initial_lane_centers(histogram)\n",
    "    else:\n",
    "        yval = warped.shape[0]-1\n",
    "        lc = left_line.best_fit[0]*yval**2+left_line.best_fit[1]*yval+left_line.best_fit[2]\n",
    "        rc = right_line.best_fit[0]*yval**2+right_line.best_fit[1]*yval+right_line.best_fit[2]\n",
    "        \n",
    "    lines = np.zeros_like(warped)\n",
    "    sliding_windows(warped, lines, lc)\n",
    "    sliding_windows(warped, lines, rc)\n",
    "    return warped\n",
    "\n",
    "def detect_line(points, is_left_ln):\n",
    "\n",
    "    # Define conversions in x and y from pixels space to meters\n",
    "    ym_per_pix = 30/720 # meters per pixel in y dimension\n",
    "    xm_per_pix = 3.7/700 # meteres per pixel in x dimension\n",
    "\n",
    "    # mid point on x-axis\n",
    "    midx = np.int(points.shape[1]/2)\n",
    "    # values from 0 to 719 - the nmber of pixels of the height of image\n",
    "    yvals = np.linspace(0, points.shape[0]-1,points.shape[0])\n",
    "    ln_pts = np.where(points==1) #returns the tuple with first element all the y and 2nd all the x\n",
    "    # fit a degree 2 polynomial\n",
    "    fit = np.polyfit(ln_pts[0], ln_pts[1], 2)\n",
    "    fitx = fit[0]*yvals**2 + fit[1]*yvals + fit[2]\n",
    "    \n",
    "    #find error in estimation and coffcient of determination\n",
    "    x_est = fit[0]*ln_pts[0]**2 + fit[1]*ln_pts[0] + fit[2]\n",
    "    fit_coeff = 1 - np.sum((x_est - ln_pts[1])**2) / np.sum((ln_pts[1] - np.mean(ln_pts[1]))**2)\n",
    "    \n",
    "    # curvature in meters\n",
    "    fit_cr = np.polyfit(ln_pts[0]*ym_per_pix, ln_pts[1]*xm_per_pix, 2)\n",
    "    y_eval = np.max(yvals)\n",
    "    curverad = ((1 + (2*fit_cr[0]*y_eval + fit_cr[1])**2)**1.5) /np.absolute(2*fit_cr[0])\n",
    "    \n",
    "    # offset of vehicle from center of lane\n",
    "    if is_left_ln:\n",
    "        _base_pos = 350 - abs(fitx[-1] - midx)  #350 is half of lane width in pixels\n",
    "    else:\n",
    "        _base_pos = abs(fitx[-1] - midx) - 350 \n",
    "\n",
    "    return (fit_coeff, fitx, fit, curverad, _base_pos, ln_pts[1], ln_pts[0])\n",
    "\n",
    "    \n",
    "\n",
    "def fit_poly(lane_img, left_line, right_line, plot_fit=False):\n",
    "    if left_line == None or right_line == None:\n",
    "        print(\"Lines can't be null. Check code\")\n",
    "        \n",
    "    global bad_frames_cnt\n",
    "\n",
    "\n",
    "    # mid point on x axis to divide the image into two halfs\n",
    "    midx = np.int(lane_img.shape[1]/2)\n",
    "    \n",
    "    #retain only left half pixels in image\n",
    "    left_lane_img = np.copy(lane_img)\n",
    "    left_lane_img[:,midx:] = 0\n",
    "\n",
    "    #retain only right half pixels in image\n",
    "    right_lane_img = np.copy(lane_img)\n",
    "    right_lane_img[:, :midx] = 0\n",
    "    \n",
    "    #process each image to collect the data\n",
    "    l_fit_coeff, l_fitx, l_fit, l_curverad, l_base_pos, l_x, l_y = detect_line(left_lane_img, is_left_ln=True)\n",
    "    r_fit_coeff, r_fitx, r_fit, r_curverad, r_base_pos, r_x, r_y = detect_line(right_lane_img, is_left_ln=False)\n",
    "        \n",
    "    #now visualize the fit\n",
    "    if plot_fit:\n",
    "        yvals = np.linspace(0, lane_img.shape[0]-1,lane_img.shape[0])\n",
    "        plt.plot(l_x, l_y, 'o', color='red')\n",
    "        plt.plot(r_x, r_y, 'o', color='red')\n",
    "        plt.xlim(0, 1280)\n",
    "        plt.ylim(0, 720)\n",
    "        plt.plot(l_fitx, yvals, color='green', linewidth=3)\n",
    "        plt.plot(r_fitx, yvals, color='green', linewidth=3)\n",
    "        plt.gca().invert_yaxis() # to visualize as we do the images\n",
    "\n",
    "    \n",
    "    #now we should do sanity check of two detections and then decide to store the lines\n",
    "    # check closeness of curvature - valid only if two line detections have high r2\n",
    "    similar_curvature = abs(l_curverad - r_curverad) / (abs(l_curverad + r_curverad)/2) < 0.2\n",
    "\n",
    "    # check if fitted lines are kind of parallel \n",
    "    # i.e. the separation at top and bottom are within 20%\n",
    "    top_separation = r_fitx[0] - l_fitx[0]\n",
    "    bottom_seaparation = r_fitx[-1] - l_fitx[-1]\n",
    "    is_parallel =  abs(top_separation - bottom_seaparation) / (abs(top_separation + bottom_seaparation)/2) < 0.25\n",
    "    \n",
    "    #if both lines have high r2 and have similar curvature and kind of parallel\n",
    "    if (similar_curvature and is_parallel and l_fit_coeff < 0.75 and r_fit_coeff < 0.75):\n",
    "        #lane found is good\n",
    "        left_line.detected = True\n",
    "        if len(left_line.recent_xfitted) != 0:\n",
    "            left_line.recent_xfitted = np.vstack((l_fitx, left_line.recent_xfitted))[0:left_line.n+1]\n",
    "        else:\n",
    "            left_line.recent_xfitted = np.reshape(l_fitx,(1,-1))\n",
    "        left_line.bestx = np.mean(left_line.recent_xfitted, axis=0)\n",
    "        prev_l_fit = left_line.current_fit\n",
    "        left_line.current_fit = l_fit\n",
    "        if prev_l_fit != None:\n",
    "            left_line.diffs = l_fit - prev_l_fit\n",
    "        if len(left_line.last_n_fit) != 0: \n",
    "            left_line.last_n_fit = np.vstack((left_line.current_fit, left_line.last_n_fit))[0:left_line.n+1]\n",
    "        else:\n",
    "            left_line.last_n_fit = np.reshape(l_fit, (1,-1))\n",
    "        left_line.best_fit = np.mean(left_line.last_n_fit, axis=0)\n",
    "        left_line.radius_of_curvature = l_curverad\n",
    "        left_line.line_base_pos = l_base_pos\n",
    "        left_line.allx = l_x\n",
    "        left_line.ally = l_y\n",
    "        \n",
    "        right_line.detected = True\n",
    "        if len(right_line.recent_xfitted) != 0:\n",
    "            right_line.recent_xfitted = np.vstack((r_fitx, right_line.recent_xfitted))[0:right_line.n+1]\n",
    "        else:\n",
    "            right_line.recent_xfitted = np.reshape(r_fitx,(1,-1))\n",
    "        right_line.bestx = np.mean(right_line.recent_xfitted, axis=0)\n",
    "        prev_r_fit = right_line.current_fit\n",
    "        right_line.current_fit = r_fit\n",
    "        if prev_r_fit != None:\n",
    "            right_line.diffs = r_fit - prev_r_fit\n",
    "        if len(right_line.last_n_fit) != 0: \n",
    "            right_line.last_n_fit = np.vstack((right_line.current_fit, right_line.last_n_fit))[0:right_line.n+1]\n",
    "        else:\n",
    "            right_line.last_n_fit = np.reshape(r_fit, (1,-1))\n",
    "        right_line.best_fit = np.mean(right_line.last_n_fit, axis=0)\n",
    "        right_line.radius_of_curvature = r_curverad\n",
    "        right_line.line_base_pos = r_base_pos\n",
    "        right_line.allx = r_x\n",
    "        right_line.ally = r_y\n",
    "        bad_frames_cnt = 0\n",
    "        \n",
    "    else:\n",
    "        \n",
    "        left_line.detected = False\n",
    "        right_line.detected = False\n",
    "        bad_frames_cnt = bad_frames_cnt+1\n",
    "        \n",
    "    if left_line.best_fit != None and right_line.best_fit != None:\n",
    "        return (left_line.best_fit, left_line.radius_of_curvature, right_line.best_fit, right_line.radius_of_curvature, \n",
    "                (left_line.line_base_pos+right_line.line_base_pos)/2)    \n",
    "    else:\n",
    "        return (l_fit, l_curverad, r_fit, r_curverad, \n",
    "                (l_base_pos+r_base_pos)/2)\n",
    "\n",
    "def merge_lane(undist, warped, Minv, left_fit, right_fit):\n",
    "    # Create an image to draw the lines on\n",
    "    warp_zero = np.zeros_like(warped).astype(np.uint8)\n",
    "    color_warp = np.dstack((warp_zero, warp_zero, warp_zero))\n",
    "\n",
    "    # Recast the x and y points into usable format for cv2.fillPoly()\n",
    "    yvals = np.linspace(0,warp_zero.shape[0]-1,warp_zero.shape[0])\n",
    "    left_fitx = left_fit[0]*yvals**2 + left_fit[1]*yvals + left_fit[2]\n",
    "    right_fitx = right_fit[0]*yvals**2 + right_fit[1]*yvals + right_fit[2]\n",
    "    \n",
    "    pts_left = np.array([np.transpose(np.vstack([left_fitx, yvals]))])\n",
    "    pts_right = np.array([np.flipud(np.transpose(np.vstack([right_fitx, yvals])))])\n",
    "    pts = np.hstack((pts_left, pts_right))\n",
    "\n",
    "    # Draw the lane onto the warped blank image\n",
    "    cv2.fillPoly(color_warp, np.int_([pts]), (0,255, 0))\n",
    "\n",
    "    # Warp the blank back to original image space using inverse perspective matrix (Minv)\n",
    "    newwarp = cv2.warpPerspective(color_warp, Minv, (undist.shape[1], undist.shape[0])) \n",
    "    # Combine the result with the original image\n",
    "    result = cv2.addWeighted(undist, 1, newwarp, 0.3, 0)\n",
    "    return result\n",
    "\n",
    "def annotate(org_img, left_curvature, right_curvature, offset):\n",
    "    img = np.copy(org_img)\n",
    "    font = cv2.FONT_HERSHEY_SIMPLEX\n",
    "    color = (255,255,255)\n",
    "    curvature_text = 'Curvature: Left = {:.2f} m and Right = {:.2f} m'.format(left_curvature, right_curvature)\n",
    "    if offset < 0:\n",
    "        offset_text = 'Lane Position: {:.2f} m left of center'.format(abs(offset))\n",
    "    else:\n",
    "        offset_text = 'Lane Position: {:.2f} m right of center'.format(abs(offset))\n",
    "    \n",
    "    cv2.putText(img, curvature_text, (10,30), font, 1, color, 2)\n",
    "    cv2.putText(img, offset_text, (10,70), font, 1, color, 2)\n",
    "    return img\n",
    "    \n",
    "\n",
    "def pipeline(img, mtx, dist, M, Minv, left_line, right_line, plot_result=False, video_clip=False):\n",
    "    #undistort\n",
    "    undist = undistort(img, mtx, dist)\n",
    "    #threshold\n",
    "    thresh = threshold(undist)\n",
    "    # Do perspective Tranform\n",
    "    warped = apply_perspective(thresh, M)\n",
    "    #isolate lane lines and find curvature\n",
    "    global bad_frames_cnt\n",
    "        \n",
    "    if bad_frames_cnt < 7 and left_line.best_fit != None and right_line.best_fit != None:\n",
    "        warped_lanes = isolate_lanes(warped, left_line, right_line, reinitiate=False)\n",
    "    else:\n",
    "        warped_lanes = isolate_lanes(warped, left_line, right_line, reinitiate=True)\n",
    "        bad_frames_cnt = 0\n",
    "        \n",
    "    #do fit and find curvature\n",
    "    left_fit, left_curverad, right_fit, right_curverad, offset = \\\n",
    "        fit_poly(warped_lanes, left_line, right_line, plot_fit=False)\n",
    "    #draw polyfill on warped image and reverse the perspective to original\n",
    "    lane_fitted_img = merge_lane(undist, warped, Minv, left_fit, right_fit)\n",
    "    #annotate\n",
    "    annotated_img = annotate(lane_fitted_img, left_curverad, right_curverad, offset)\n",
    "\n",
    "    #plot result\n",
    "    if plot_result:\n",
    "        f, (ax1, ax2) = plt.subplots(1, 2, figsize=(24, 9))\n",
    "        f.tight_layout()\n",
    "        ax1.imshow(img)\n",
    "        ax1.set_title('Original Image', fontsize=20)\n",
    "        ax2.imshow(annotated_img)\n",
    "        ax2.set_title('Lane Fitted', fontsize=20)\n",
    "        plt.subplots_adjust(left=0., right=1, top=0.9, bottom=0.)\n",
    "\n",
    "    #return lane fitted and annotated image\n",
    "    return annotated_img\n",
    "    \n",
    "    \n",
    "\n",
    "\n"
   ]
  },
  {
   "cell_type": "code",
   "execution_count": null,
   "metadata": {
    "collapsed": false
   },
   "outputs": [],
   "source": [
    "# Run pipeline on test images\n",
    "%matplotlib inline\n",
    "\n",
    "# Read in the saved distortion coefficients\n",
    "dist_pickle = pickle.load( open( \"dist_pickle.p\", \"rb\" ) )\n",
    "mtx = dist_pickle[\"mtx\"]\n",
    "dist = dist_pickle[\"dist\"]\n",
    "\n",
    "# read in saved M and Minv\n",
    "M_pickle = pickle.load( open( \"M_pickle.p\", \"rb\" ) )\n",
    "M = M_pickle[\"M\"]\n",
    "Minv = M_pickle[\"Minv\"]\n",
    "\n",
    "\n",
    "# Make a list of test images\n",
    "images = glob.glob('test_images/test*.jpg')\n",
    "\n",
    "# Step through the list and undistort the images\n",
    "for idx, fname in enumerate(images):\n",
    "    img = mpimg.imread(fname)\n",
    "    fitted_img = pipeline(img, mtx, dist, M, Minv, plot_result=True)\n",
    "    #mpimg.imsave('output_images/fitted_'+fname[12:],fitted_img)\n",
    "\n",
    "\n",
    "\n"
   ]
  },
  {
   "cell_type": "markdown",
   "metadata": {
    "collapsed": true
   },
   "source": [
    "### Now Try on Video without tracker of recent measurements"
   ]
  },
  {
   "cell_type": "code",
   "execution_count": 4,
   "metadata": {
    "collapsed": true
   },
   "outputs": [],
   "source": [
    "# Import everything needed to edit/save/watch video clips\n",
    "from moviepy.editor import VideoFileClip\n",
    "from IPython.display import HTML"
   ]
  },
  {
   "cell_type": "code",
   "execution_count": 40,
   "metadata": {
    "collapsed": true
   },
   "outputs": [],
   "source": [
    "# two instances of Line to remember past history of line detection\n",
    "# two global variable to hold past detection as I do not know how to pass additional paramters \n",
    "# in the function fl_image which can in turn be passed to process_image\n",
    "left_line = Line()\n",
    "right_line = Line()\n",
    "bad_frames_cnt = 0\n",
    "\n",
    "%matplotlib inline\n",
    "\n",
    "# Read in the saved distortion coefficients\n",
    "dist_pickle = pickle.load( open( \"dist_pickle.p\", \"rb\" ) )\n",
    "mtx = dist_pickle[\"mtx\"]\n",
    "dist = dist_pickle[\"dist\"]\n",
    "\n",
    "# read in saved M and Minv\n",
    "M_pickle = pickle.load( open( \"M_pickle.p\", \"rb\" ) )\n",
    "M = M_pickle[\"M\"]\n",
    "Minv = M_pickle[\"Minv\"]\n",
    "\n",
    "\n",
    "def process_image(img):\n",
    "    return pipeline(img, mtx, dist, M, Minv, left_line, right_line, plot_result=False, video_clip=True)"
   ]
  },
  {
   "cell_type": "code",
   "execution_count": 41,
   "metadata": {
    "collapsed": false
   },
   "outputs": [
    {
     "ename": "OSError",
     "evalue": "[WinError 6] The handle is invalid",
     "output_type": "error",
     "traceback": [
      "\u001b[0;31m---------------------------------------------------------------------------\u001b[0m",
      "\u001b[0;31mOSError\u001b[0m                                   Traceback (most recent call last)",
      "\u001b[0;32m<ipython-input-41-929c04973a7b>\u001b[0m in \u001b[0;36m<module>\u001b[0;34m()\u001b[0m\n\u001b[1;32m      1\u001b[0m \u001b[1;33m\u001b[0m\u001b[0m\n\u001b[1;32m      2\u001b[0m \u001b[0mvideo1_output\u001b[0m \u001b[1;33m=\u001b[0m \u001b[1;34m'project_video_output.mp4'\u001b[0m\u001b[1;33m\u001b[0m\u001b[0m\n\u001b[0;32m----> 3\u001b[0;31m \u001b[0mclip1\u001b[0m \u001b[1;33m=\u001b[0m \u001b[0mVideoFileClip\u001b[0m\u001b[1;33m(\u001b[0m\u001b[1;34m'project_video.mp4'\u001b[0m\u001b[1;33m)\u001b[0m\u001b[1;33m\u001b[0m\u001b[0m\n\u001b[0m\u001b[1;32m      4\u001b[0m \u001b[0moutput_clip\u001b[0m \u001b[1;33m=\u001b[0m \u001b[0mclip1\u001b[0m\u001b[1;33m.\u001b[0m\u001b[0mfl_image\u001b[0m\u001b[1;33m(\u001b[0m\u001b[0mprocess_image\u001b[0m\u001b[1;33m)\u001b[0m\u001b[1;33m\u001b[0m\u001b[0m\n\u001b[1;32m      5\u001b[0m \u001b[0mget_ipython\u001b[0m\u001b[1;33m(\u001b[0m\u001b[1;33m)\u001b[0m\u001b[1;33m.\u001b[0m\u001b[0mmagic\u001b[0m\u001b[1;33m(\u001b[0m\u001b[1;34m'time output_clip.write_videofile(video1_output, audio=False)'\u001b[0m\u001b[1;33m)\u001b[0m\u001b[1;33m\u001b[0m\u001b[0m\n",
      "\u001b[0;32mC:\\Users\\soais\\Anaconda3\\envs\\carnd-term1\\lib\\site-packages\\moviepy\\video\\io\\VideoFileClip.py\u001b[0m in \u001b[0;36m__init__\u001b[0;34m(self, filename, has_mask, audio, audio_buffersize, audio_fps, audio_nbytes, verbose)\u001b[0m\n\u001b[1;32m     53\u001b[0m         \u001b[1;31m# Make a reader\u001b[0m\u001b[1;33m\u001b[0m\u001b[1;33m\u001b[0m\u001b[0m\n\u001b[1;32m     54\u001b[0m         \u001b[0mpix_fmt\u001b[0m\u001b[1;33m=\u001b[0m \u001b[1;34m\"rgba\"\u001b[0m \u001b[1;32mif\u001b[0m \u001b[0mhas_mask\u001b[0m \u001b[1;32melse\u001b[0m \u001b[1;34m\"rgb24\"\u001b[0m\u001b[1;33m\u001b[0m\u001b[0m\n\u001b[0;32m---> 55\u001b[0;31m         \u001b[0mreader\u001b[0m \u001b[1;33m=\u001b[0m \u001b[0mFFMPEG_VideoReader\u001b[0m\u001b[1;33m(\u001b[0m\u001b[0mfilename\u001b[0m\u001b[1;33m,\u001b[0m \u001b[0mpix_fmt\u001b[0m\u001b[1;33m=\u001b[0m\u001b[0mpix_fmt\u001b[0m\u001b[1;33m)\u001b[0m\u001b[1;33m\u001b[0m\u001b[0m\n\u001b[0m\u001b[1;32m     56\u001b[0m         \u001b[0mself\u001b[0m\u001b[1;33m.\u001b[0m\u001b[0mreader\u001b[0m \u001b[1;33m=\u001b[0m \u001b[0mreader\u001b[0m\u001b[1;33m\u001b[0m\u001b[0m\n\u001b[1;32m     57\u001b[0m         \u001b[1;31m# Make some of the reader's attributes accessible from the clip\u001b[0m\u001b[1;33m\u001b[0m\u001b[1;33m\u001b[0m\u001b[0m\n",
      "\u001b[0;32mC:\\Users\\soais\\Anaconda3\\envs\\carnd-term1\\lib\\site-packages\\moviepy\\video\\io\\ffmpeg_reader.py\u001b[0m in \u001b[0;36m__init__\u001b[0;34m(self, filename, print_infos, bufsize, pix_fmt, check_duration)\u001b[0m\n\u001b[1;32m     30\u001b[0m \u001b[1;33m\u001b[0m\u001b[0m\n\u001b[1;32m     31\u001b[0m         \u001b[0mself\u001b[0m\u001b[1;33m.\u001b[0m\u001b[0mfilename\u001b[0m \u001b[1;33m=\u001b[0m \u001b[0mfilename\u001b[0m\u001b[1;33m\u001b[0m\u001b[0m\n\u001b[0;32m---> 32\u001b[0;31m         \u001b[0minfos\u001b[0m \u001b[1;33m=\u001b[0m \u001b[0mffmpeg_parse_infos\u001b[0m\u001b[1;33m(\u001b[0m\u001b[0mfilename\u001b[0m\u001b[1;33m,\u001b[0m \u001b[0mprint_infos\u001b[0m\u001b[1;33m,\u001b[0m \u001b[0mcheck_duration\u001b[0m\u001b[1;33m)\u001b[0m\u001b[1;33m\u001b[0m\u001b[0m\n\u001b[0m\u001b[1;32m     33\u001b[0m         \u001b[0mself\u001b[0m\u001b[1;33m.\u001b[0m\u001b[0mfps\u001b[0m \u001b[1;33m=\u001b[0m \u001b[0minfos\u001b[0m\u001b[1;33m[\u001b[0m\u001b[1;34m'video_fps'\u001b[0m\u001b[1;33m]\u001b[0m\u001b[1;33m\u001b[0m\u001b[0m\n\u001b[1;32m     34\u001b[0m         \u001b[0mself\u001b[0m\u001b[1;33m.\u001b[0m\u001b[0msize\u001b[0m \u001b[1;33m=\u001b[0m \u001b[0minfos\u001b[0m\u001b[1;33m[\u001b[0m\u001b[1;34m'video_size'\u001b[0m\u001b[1;33m]\u001b[0m\u001b[1;33m\u001b[0m\u001b[0m\n",
      "\u001b[0;32mC:\\Users\\soais\\Anaconda3\\envs\\carnd-term1\\lib\\site-packages\\moviepy\\video\\io\\ffmpeg_reader.py\u001b[0m in \u001b[0;36mffmpeg_parse_infos\u001b[0;34m(filename, print_infos, check_duration)\u001b[0m\n\u001b[1;32m    235\u001b[0m         \u001b[0mpopen_params\u001b[0m\u001b[1;33m[\u001b[0m\u001b[1;34m\"creationflags\"\u001b[0m\u001b[1;33m]\u001b[0m \u001b[1;33m=\u001b[0m \u001b[1;36m0x08000000\u001b[0m\u001b[1;33m\u001b[0m\u001b[0m\n\u001b[1;32m    236\u001b[0m \u001b[1;33m\u001b[0m\u001b[0m\n\u001b[0;32m--> 237\u001b[0;31m     \u001b[0mproc\u001b[0m \u001b[1;33m=\u001b[0m \u001b[0msp\u001b[0m\u001b[1;33m.\u001b[0m\u001b[0mPopen\u001b[0m\u001b[1;33m(\u001b[0m\u001b[0mcmd\u001b[0m\u001b[1;33m,\u001b[0m \u001b[1;33m**\u001b[0m\u001b[0mpopen_params\u001b[0m\u001b[1;33m)\u001b[0m\u001b[1;33m\u001b[0m\u001b[0m\n\u001b[0m\u001b[1;32m    238\u001b[0m \u001b[1;33m\u001b[0m\u001b[0m\n\u001b[1;32m    239\u001b[0m     \u001b[0mproc\u001b[0m\u001b[1;33m.\u001b[0m\u001b[0mstdout\u001b[0m\u001b[1;33m.\u001b[0m\u001b[0mreadline\u001b[0m\u001b[1;33m(\u001b[0m\u001b[1;33m)\u001b[0m\u001b[1;33m\u001b[0m\u001b[0m\n",
      "\u001b[0;32mC:\\Users\\soais\\Anaconda3\\envs\\carnd-term1\\lib\\subprocess.py\u001b[0m in \u001b[0;36m__init__\u001b[0;34m(self, args, bufsize, executable, stdin, stdout, stderr, preexec_fn, close_fds, shell, cwd, env, universal_newlines, startupinfo, creationflags, restore_signals, start_new_session, pass_fds)\u001b[0m\n\u001b[1;32m    840\u001b[0m                  pass_fds=()):\n\u001b[1;32m    841\u001b[0m         \u001b[1;34m\"\"\"Create new Popen instance.\"\"\"\u001b[0m\u001b[1;33m\u001b[0m\u001b[0m\n\u001b[0;32m--> 842\u001b[0;31m         \u001b[0m_cleanup\u001b[0m\u001b[1;33m(\u001b[0m\u001b[1;33m)\u001b[0m\u001b[1;33m\u001b[0m\u001b[0m\n\u001b[0m\u001b[1;32m    843\u001b[0m         \u001b[1;31m# Held while anything is calling waitpid before returncode has been\u001b[0m\u001b[1;33m\u001b[0m\u001b[1;33m\u001b[0m\u001b[0m\n\u001b[1;32m    844\u001b[0m         \u001b[1;31m# updated to prevent clobbering returncode if wait() or poll() are\u001b[0m\u001b[1;33m\u001b[0m\u001b[1;33m\u001b[0m\u001b[0m\n",
      "\u001b[0;32mC:\\Users\\soais\\Anaconda3\\envs\\carnd-term1\\lib\\subprocess.py\u001b[0m in \u001b[0;36m_cleanup\u001b[0;34m()\u001b[0m\n\u001b[1;32m    503\u001b[0m \u001b[1;32mdef\u001b[0m \u001b[0m_cleanup\u001b[0m\u001b[1;33m(\u001b[0m\u001b[1;33m)\u001b[0m\u001b[1;33m:\u001b[0m\u001b[1;33m\u001b[0m\u001b[0m\n\u001b[1;32m    504\u001b[0m     \u001b[1;32mfor\u001b[0m \u001b[0minst\u001b[0m \u001b[1;32min\u001b[0m \u001b[0m_active\u001b[0m\u001b[1;33m[\u001b[0m\u001b[1;33m:\u001b[0m\u001b[1;33m]\u001b[0m\u001b[1;33m:\u001b[0m\u001b[1;33m\u001b[0m\u001b[0m\n\u001b[0;32m--> 505\u001b[0;31m         \u001b[0mres\u001b[0m \u001b[1;33m=\u001b[0m \u001b[0minst\u001b[0m\u001b[1;33m.\u001b[0m\u001b[0m_internal_poll\u001b[0m\u001b[1;33m(\u001b[0m\u001b[0m_deadstate\u001b[0m\u001b[1;33m=\u001b[0m\u001b[0msys\u001b[0m\u001b[1;33m.\u001b[0m\u001b[0mmaxsize\u001b[0m\u001b[1;33m)\u001b[0m\u001b[1;33m\u001b[0m\u001b[0m\n\u001b[0m\u001b[1;32m    506\u001b[0m         \u001b[1;32mif\u001b[0m \u001b[0mres\u001b[0m \u001b[1;32mis\u001b[0m \u001b[1;32mnot\u001b[0m \u001b[1;32mNone\u001b[0m\u001b[1;33m:\u001b[0m\u001b[1;33m\u001b[0m\u001b[0m\n\u001b[1;32m    507\u001b[0m             \u001b[1;32mtry\u001b[0m\u001b[1;33m:\u001b[0m\u001b[1;33m\u001b[0m\u001b[0m\n",
      "\u001b[0;32mC:\\Users\\soais\\Anaconda3\\envs\\carnd-term1\\lib\\subprocess.py\u001b[0m in \u001b[0;36m_internal_poll\u001b[0;34m(self, _deadstate, _WaitForSingleObject, _WAIT_OBJECT_0, _GetExitCodeProcess)\u001b[0m\n\u001b[1;32m   1257\u001b[0m             \"\"\"\n\u001b[1;32m   1258\u001b[0m             \u001b[1;32mif\u001b[0m \u001b[0mself\u001b[0m\u001b[1;33m.\u001b[0m\u001b[0mreturncode\u001b[0m \u001b[1;32mis\u001b[0m \u001b[1;32mNone\u001b[0m\u001b[1;33m:\u001b[0m\u001b[1;33m\u001b[0m\u001b[0m\n\u001b[0;32m-> 1259\u001b[0;31m                 \u001b[1;32mif\u001b[0m \u001b[0m_WaitForSingleObject\u001b[0m\u001b[1;33m(\u001b[0m\u001b[0mself\u001b[0m\u001b[1;33m.\u001b[0m\u001b[0m_handle\u001b[0m\u001b[1;33m,\u001b[0m \u001b[1;36m0\u001b[0m\u001b[1;33m)\u001b[0m \u001b[1;33m==\u001b[0m \u001b[0m_WAIT_OBJECT_0\u001b[0m\u001b[1;33m:\u001b[0m\u001b[1;33m\u001b[0m\u001b[0m\n\u001b[0m\u001b[1;32m   1260\u001b[0m                     \u001b[0mself\u001b[0m\u001b[1;33m.\u001b[0m\u001b[0mreturncode\u001b[0m \u001b[1;33m=\u001b[0m \u001b[0m_GetExitCodeProcess\u001b[0m\u001b[1;33m(\u001b[0m\u001b[0mself\u001b[0m\u001b[1;33m.\u001b[0m\u001b[0m_handle\u001b[0m\u001b[1;33m)\u001b[0m\u001b[1;33m\u001b[0m\u001b[0m\n\u001b[1;32m   1261\u001b[0m             \u001b[1;32mreturn\u001b[0m \u001b[0mself\u001b[0m\u001b[1;33m.\u001b[0m\u001b[0mreturncode\u001b[0m\u001b[1;33m\u001b[0m\u001b[0m\n",
      "\u001b[0;31mOSError\u001b[0m: [WinError 6] The handle is invalid"
     ]
    }
   ],
   "source": [
    "\n",
    "video1_output = 'project_video_output.mp4'\n",
    "clip1 = VideoFileClip('project_video.mp4')\n",
    "output_clip = clip1.fl_image(process_image)\n",
    "%time output_clip.write_videofile(video1_output, audio=False)"
   ]
  },
  {
   "cell_type": "code",
   "execution_count": null,
   "metadata": {
    "collapsed": true
   },
   "outputs": [],
   "source": [
    "\n",
    "HTML(\"\"\"\n",
    "<video width=\"960\" height=\"540\" controls>\n",
    "  <source src=\"{0}\">\n",
    "</video>\n",
    "\"\"\".format(video1_output))"
   ]
  },
  {
   "cell_type": "code",
   "execution_count": null,
   "metadata": {
    "collapsed": true
   },
   "outputs": [],
   "source": [
    "import numpy as np"
   ]
  },
  {
   "cell_type": "code",
   "execution_count": null,
   "metadata": {
    "collapsed": false
   },
   "outputs": [],
   "source": [
    "np.array([1,2,3])[-1]"
   ]
  },
  {
   "cell_type": "code",
   "execution_count": null,
   "metadata": {
    "collapsed": false
   },
   "outputs": [],
   "source": [
    "x = np.array([[0,0,1,1,1,0,0,0],[0,0,1,0,1,0,0,0],[0,0,1,1,0,0,0,0],[0,0,0,1,1,0,0,0]])"
   ]
  },
  {
   "cell_type": "code",
   "execution_count": null,
   "metadata": {
    "collapsed": false
   },
   "outputs": [],
   "source": [
    "x.shape"
   ]
  },
  {
   "cell_type": "code",
   "execution_count": null,
   "metadata": {
    "collapsed": false
   },
   "outputs": [],
   "source": [
    "ones = np.where(x[1:3,1:5]==1)"
   ]
  },
  {
   "cell_type": "code",
   "execution_count": null,
   "metadata": {
    "collapsed": false
   },
   "outputs": [],
   "source": [
    "x[1:3,1:5]"
   ]
  },
  {
   "cell_type": "code",
   "execution_count": null,
   "metadata": {
    "collapsed": false
   },
   "outputs": [],
   "source": [
    "ones[1]"
   ]
  },
  {
   "cell_type": "code",
   "execution_count": 33,
   "metadata": {
    "collapsed": false
   },
   "outputs": [
    {
     "data": {
      "text/plain": [
       "array([[1, 2, 3],\n",
       "       [7, 8, 9]])"
      ]
     },
     "execution_count": 33,
     "metadata": {},
     "output_type": "execute_result"
    }
   ],
   "source": [
    "new_d = np.vstack((np.array([1,2,3]), np.array([7,8,9])))\n",
    "new_d"
   ]
  },
  {
   "cell_type": "code",
   "execution_count": null,
   "metadata": {
    "collapsed": false
   },
   "outputs": [],
   "source": [
    "cnt = 0\n",
    "def update(cnt):\n",
    "    cnt = cnt+1\n",
    "\n",
    "update(cnt)\n",
    "print(cnt)"
   ]
  },
  {
   "cell_type": "code",
   "execution_count": 22,
   "metadata": {
    "collapsed": false
   },
   "outputs": [
    {
     "data": {
      "text/plain": [
       "0"
      ]
     },
     "execution_count": 22,
     "metadata": {},
     "output_type": "execute_result"
    }
   ],
   "source": [
    "len([])"
   ]
  },
  {
   "cell_type": "code",
   "execution_count": 37,
   "metadata": {
    "collapsed": false
   },
   "outputs": [
    {
     "data": {
      "text/plain": [
       "array([ 0.,  1.,  2.,  3.])"
      ]
     },
     "execution_count": 37,
     "metadata": {},
     "output_type": "execute_result"
    }
   ],
   "source": [
    "np.mean(np.reshape(np.array(np.linspace(0,3,4)),(1,-1)), axis=0)"
   ]
  },
  {
   "cell_type": "code",
   "execution_count": 38,
   "metadata": {
    "collapsed": false
   },
   "outputs": [
    {
     "data": {
      "text/plain": [
       "[array([False], dtype=bool)]"
      ]
     },
     "execution_count": 38,
     "metadata": {},
     "output_type": "execute_result"
    }
   ],
   "source": [
    "[np.array([False])]"
   ]
  },
  {
   "cell_type": "code",
   "execution_count": null,
   "metadata": {
    "collapsed": true
   },
   "outputs": [],
   "source": []
  }
 ],
 "metadata": {
  "kernelspec": {
   "display_name": "Python 3",
   "language": "python",
   "name": "python3"
  },
  "language_info": {
   "codemirror_mode": {
    "name": "ipython",
    "version": 3
   },
   "file_extension": ".py",
   "mimetype": "text/x-python",
   "name": "python",
   "nbconvert_exporter": "python",
   "pygments_lexer": "ipython3",
   "version": "3.5.2"
  },
  "widgets": {
   "state": {},
   "version": "1.1.2"
  }
 },
 "nbformat": 4,
 "nbformat_minor": 2
}
